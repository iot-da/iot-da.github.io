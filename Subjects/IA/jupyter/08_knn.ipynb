{
 "cells": [
  {
   "cell_type": "code",
   "execution_count": 2,
   "metadata": {},
   "outputs": [
    {
     "name": "stdout",
     "output_type": "stream",
     "text": [
      "[1. 2. 2. 2. 2. 2.]\n"
     ]
    }
   ],
   "source": [
    "import numpy as np\n",
    "\n",
    "class KNearestNeighbor:\n",
    "    def __init__(self, k):\n",
    "        self.k = k # number of neighbors to take into account\n",
    "\n",
    "    def train(self, X, y):\n",
    "        self.X_train = X # point\n",
    "        self.y_train = y # label\n",
    "\n",
    "    def predict(self, X_test, num_loops=0):\n",
    "        if num_loops == 0:\n",
    "            distances = self.compute_distance_vectorized(X_test)\n",
    "\n",
    "        elif num_loops == 1:\n",
    "            distances = self.compute_distance_one_loop(X_test)\n",
    "\n",
    "        else:\n",
    "            distances = self.compute_distance_two_loops(X_test)\n",
    "\n",
    "        return self.predict_labels(distances)\n",
    "\n",
    "    def compute_distance_two_loops(self, X_test):\n",
    "        #Inefficient implementation\n",
    "        \n",
    "        num_test = X_test.shape[0]\n",
    "        num_train = self.X_train.shape[0]\n",
    "        distances = np.zeros((num_test, num_train))\n",
    "\n",
    "        for i in range(num_test):\n",
    "            for j in range(num_train):\n",
    "                distances[i, j] = np.sqrt(np.sum((X_test[i, :] - self.X_train[j, :]) ** 2))\n",
    "\n",
    "        return distances\n",
    "\n",
    "    def compute_distance_one_loop(self, X_test):\n",
    "        # Also inneficient, utilize Numpy broadcasting in X_train - X_test[i,:]\n",
    "        \n",
    "        num_test = X_test.shape[0]\n",
    "        num_train = self.X_train.shape[0]\n",
    "        distances = np.zeros((num_test, num_train))\n",
    "\n",
    "        for i in range(num_test):\n",
    "            distances[i, :] = np.sqrt(np.sum((self.X_train - X_test[i, :]) ** 2, axis=1))\n",
    "\n",
    "        return distances\n",
    "\n",
    "    def compute_distance_vectorized(self, X_test):\n",
    "        # Efficient \n",
    "        # ||u - v||² = ||u||² + ||v||² - 2uv\n",
    "        \n",
    "        X_test_squared = np.sum(X_test ** 2, axis=1, keepdims=True)\n",
    "        X_train_squared = np.sum(self.X_train ** 2, axis=1, keepdims=True)\n",
    "        two_X_test_X_train = np.dot(X_test, self.X_train.T)\n",
    "        \n",
    "        return np.sqrt(X_test_squared - 2 * two_X_test_X_train + X_train_squared.T)\n",
    "\n",
    "    def predict_labels(self, distances):\n",
    "        num_test = distances.shape[0]\n",
    "        y_pred = np.zeros(num_test)\n",
    "\n",
    "        for i in range(num_test):\n",
    "            y_indices = np.argsort(distances[i, :])\n",
    "            k_closest_classes = self.y_train[y_indices[: self.k]].astype(int)\n",
    "            y_pred[i] = np.argmax(np.bincount(k_closest_classes))\n",
    "\n",
    "        return y_pred\n",
    "\n",
    "X_train = np.loadtxt(\"data.txt\", delimiter=\",\")\n",
    "y_train = np.loadtxt(\"targets.txt\")\n",
    "\n",
    "X_test = np.array([[1, 1], [3, 1], [1, 4], [2, 4], [3, 3], [5, 1]])\n",
    "\n",
    "KNN = KNearestNeighbor(k=1)\n",
    "KNN.train(X_train, y_train)\n",
    "\n",
    "print(KNN.predict(X_test))"
   ]
  },
  {
   "cell_type": "markdown",
   "metadata": {},
   "source": [
    "# Assigment by the 8th of March\n",
    "\n",
    "Plot the training data with different colors depending on the label\n",
    "Plot the X to be tested with 'o' markers"
   ]
  },
  {
   "cell_type": "code",
   "execution_count": 6,
   "metadata": {},
   "outputs": [
    {
     "data": {
      "image/png": "[encoded data removed]",
      "text/plain": [
       "<Figure size 432x288 with 1 Axes>"
      ]
     },
     "metadata": {
      "needs_background": "light"
     },
     "output_type": "display_data"
    }
   ],
   "source": [
    "import matplotlib.pyplot as plt\n",
    "\n",
    "def create_dataset_circle(N, D=2, K=5):\n",
    "    X = np.zeros((N * K, D))  # data matrix (each row = single example)\n",
    "    y = np.zeros(N * K)  # class labels\n",
    "\n",
    "    for j in range(K):\n",
    "        ix = range(N * j, N * (j + 1))\n",
    "        r = 10 + np.random.randn(N) * 2 # radius\n",
    "        t = (2*np.pi / K ) * (j+1) + np.random.randn(N) * 0.05 # theta\n",
    "                \n",
    "        X[ix] = np.c_[r*np.cos(t), r*np.sin(t)]\n",
    "        y[ix] = j\n",
    "\n",
    "    # lets visualize the data:\n",
    "    plt.scatter(X[:, 0], X[:, 1], c=y, s=20, cmap=plt.cm.Spectral)\n",
    "    plt.show()\n",
    "\n",
    "    return X, y\n",
    "\n",
    "np.random.seed(1)\n",
    "X, y = create_dataset_circle(N=10, K=6)"
   ]
  },
  {
   "cell_type": "markdown",
   "metadata": {},
   "source": [
    "# Assigment by the 8th of March\n",
    "\n",
    "Implement a function in python such that takes as an input a vector X_test to clasify it.\n",
    "\n",
    "The function must implement three metrics;namely, Manhantan distance, Euclidian distance, and dot product between unit vectors (to determine directions or angles).\n",
    "\n",
    "- Generate X_train (or the database) with the provided function create_dataset_circle, and try random data as a test (plot the results).\n",
    "- Generate X_train (or the database) from data.txt and target.txt, and try random data as a test (plot the results)"
   ]
  },
  {
   "cell_type": "code",
   "execution_count": null,
   "metadata": {},
   "outputs": [],
   "source": []
  }
 ],
 "metadata": {
  "kernelspec": {
   "display_name": "Python 3 (ipykernel)",
   "language": "python",
   "name": "python3"
  },
  "language_info": {
   "codemirror_mode": {
    "name": "ipython",
    "version": 3
   },
   "file_extension": ".py",
   "mimetype": "text/x-python",
   "name": "python",
   "nbconvert_exporter": "python",
   "pygments_lexer": "ipython3",
   "version": "3.8.10"
  }
 },
 "nbformat": 4,
 "nbformat_minor": 2
}
