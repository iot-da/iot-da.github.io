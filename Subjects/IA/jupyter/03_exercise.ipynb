{
 "cells": [
  {
   "cell_type": "markdown",
   "metadata": {},
   "source": [
    "# Building a Neural Network with PyTorch (send it by the 15th of February)\n",
    "\n",
    "Let's build a Neural Network with PyTorch to determine housing prices.\n",
    "\n",
    "It must have 5 neurons in the hidden layer. The neurons must be linear and use the sigmoid function.\n",
    "\n",
    "1. You need to create the Neural Network and its high-level description.\n",
    "2. For training the network, use the gradient descent on the Mean Square Error loss function.\n",
    "3. Verify the results with house 5 and 6."
   ]
  },
  {
   "cell_type": "code",
   "execution_count": null,
   "metadata": {},
   "outputs": [],
   "source": [
    "# Define dataset\n",
    "data = np.array([\n",
    "  [50, 10, 30], # House 1  Price / Distance to the city center / square meters\n",
    "  [45, 6, 10],  # House 2\n",
    "  [17, 3, 40],  # House 3\n",
    "  [15, 7, 35],  # House 4\n",
    "])\n",
    "all_y_trues = np.array([\n",
    "  1, # House 1 , 1 overpriced, 0 no overprice\n",
    "  1, # House 2\n",
    "  0, # House 3\n",
    "  0, # House 4\n",
    "])\n",
    "\n",
    "# Verify with house 5 and 6\n",
    "\n",
    "h5 = np.array([70, 6, 10]) \n",
    "h6 = np.array([15, 6, 30])"
   ]
  }
 ],
 "metadata": {
  "kernelspec": {
   "display_name": "Python 3 (ipykernel)",
   "language": "python",
   "name": "python3"
  },
  "language_info": {
   "codemirror_mode": {
    "name": "ipython",
    "version": 3
   },
   "file_extension": ".py",
   "mimetype": "text/x-python",
   "name": "python",
   "nbconvert_exporter": "python",
   "pygments_lexer": "ipython3",
   "version": "3.8.10"
  }
 },
 "nbformat": 4,
 "nbformat_minor": 2
}
