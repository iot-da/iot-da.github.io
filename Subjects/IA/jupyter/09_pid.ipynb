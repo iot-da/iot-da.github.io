{
 "cells": [
  {
   "cell_type": "markdown",
   "metadata": {},
   "source": [
    "# SIMULATION OF A PID CONTROLLER\n",
    "\n",
    "Given an error signal $e(t)$, we can command a machine with the following control signal $u(t) = P + I + D$.\n",
    "\n",
    "Proportional $P = K_p e(t)$, Integral $I = \\int K_i e(t)$, Derivative $D = K_d \\frac{d e(t)}{dt}$, where $K_p, K_i, $ and $K_i$ are (typically positive) constants."
   ]
  },
  {
   "cell_type": "code",
   "execution_count": 21,
   "metadata": {},
   "outputs": [],
   "source": [
    "import numpy as np\n",
    "import matplotlib.pyplot as plt\n",
    "\n",
    "class airco_in_a_room:\n",
    "    def __init__(self, t, t_outside):\n",
    "        self.t_outside = t_outside # temperature outside of the room\n",
    "        self.t = t # initial temperature\n",
    "        self.u = 0 # actuator command temperature/time\n",
    "        \n",
    "    def sim_step(self, dT):\n",
    "        self.t = self.t + (self.t_outside - self.t)*dT + self.u*dT\n",
    "        \n",
    "    def set_command(self, u):\n",
    "        self.u = u\n",
    "        \n",
    "    def get_current_temp(self):\n",
    "        return self.t"
   ]
  },
  {
   "cell_type": "markdown",
   "metadata": {},
   "source": [
    "# Example of leaving the airco on with a constant command"
   ]
  },
  {
   "cell_type": "code",
   "execution_count": 27,
   "metadata": {},
   "outputs": [
    {
     "data": {
      "image/png": "[encoded data removed]",
      "text/plain": [
       "<Figure size 432x288 with 1 Axes>"
      ]
     },
     "metadata": {
      "needs_background": "light"
     },
     "output_type": "display_data"
    }
   ],
   "source": [
    "airco = airco_in_a_room(25, 25)\n",
    "\n",
    "log_time = np.linspace(0, 10, 100)\n",
    "log_t = np.zeros_like(log_time)\n",
    "dt = 10.0/100.0\n",
    "\n",
    "for i in range(np.size(log_time)):\n",
    "    airco.set_command(1)\n",
    "    airco.sim_step(dt)\n",
    "                 \n",
    "    log_t[i] = airco.get_current_temp()\n",
    "                 \n",
    "fig, axis = plt.subplots(1,1)\n",
    "axis.plot(log_time, log_t)\n",
    "axis.set_xlabel(\"Time\")\n",
    "axis.set_ylabel(\"Temperature\")\n",
    "axis.grid()"
   ]
  },
  {
   "cell_type": "markdown",
   "metadata": {},
   "source": [
    "# Assigment 15 March\n",
    "The desired temperature is 22 degrees. Start from a random temperature inside, and a random temperature outside. Construct the error signal, and with only a PI controller (no need of derivative now) command the airco to reach the desired temperature in the room.\n",
    "\n",
    "Plot the temperature signal in the room, and the command to the airco vs time."
   ]
  },
  {
   "cell_type": "code",
   "execution_count": null,
   "metadata": {},
   "outputs": [],
   "source": []
  }
 ],
 "metadata": {
  "kernelspec": {
   "display_name": "Python 3 (ipykernel)",
   "language": "python",
   "name": "python3"
  },
  "language_info": {
   "codemirror_mode": {
    "name": "ipython",
    "version": 3
   },
   "file_extension": ".py",
   "mimetype": "text/x-python",
   "name": "python",
   "nbconvert_exporter": "python",
   "pygments_lexer": "ipython3",
   "version": "3.8.10"
  }
 },
 "nbformat": 4,
 "nbformat_minor": 2
}
