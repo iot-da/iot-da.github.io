{
 "cells": [
  {
   "cell_type": "code",
   "execution_count": 1,
   "metadata": {},
   "outputs": [],
   "source": [
    "import numpy as np # SHIFT + ENTER"
   ]
  },
  {
   "cell_type": "markdown",
   "metadata": {},
   "source": [
    "$x = \\begin{bmatrix}x_1 \\\\ x_2 \\\\ x_3\\end{bmatrix}$"
   ]
  },
  {
   "cell_type": "code",
   "execution_count": 3,
   "metadata": {},
   "outputs": [
    {
     "data": {
      "text/plain": [
       "array([ 3. , 55. , -2.4])"
      ]
     },
     "execution_count": 3,
     "metadata": {},
     "output_type": "execute_result"
    }
   ],
   "source": [
    "x1 = 3\n",
    "x2 = 55\n",
    "x3 = -2.4\n",
    "\n",
    "x = np.array([x1, x2, x3])\n",
    "\n",
    "x"
   ]
  },
  {
   "cell_type": "markdown",
   "metadata": {},
   "source": [
    "$X = \\begin{bmatrix}x_{11} & x_{12} \\\\ x_{21} & x_{22}\\end{bmatrix}$"
   ]
  },
  {
   "cell_type": "code",
   "execution_count": 5,
   "metadata": {},
   "outputs": [
    {
     "data": {
      "text/plain": [
       "array([[  3,   6],\n",
       "       [  7, -67]])"
      ]
     },
     "execution_count": 5,
     "metadata": {},
     "output_type": "execute_result"
    }
   ],
   "source": [
    "x_11 = 3\n",
    "x_12 = 6\n",
    "x_21 = 7\n",
    "x_22 = -67\n",
    "X = np.array([[x_11, x_12],[x_21, x_22]])\n",
    "\n",
    "X"
   ]
  },
  {
   "cell_type": "code",
   "execution_count": 7,
   "metadata": {},
   "outputs": [
    {
     "name": "stdout",
     "output_type": "stream",
     "text": [
      "3 -67\n"
     ]
    }
   ],
   "source": [
    "print(X[0,0], X[1,1])"
   ]
  },
  {
   "cell_type": "code",
   "execution_count": 8,
   "metadata": {},
   "outputs": [
    {
     "data": {
      "text/plain": [
       "array([[  3,   7],\n",
       "       [  6, -67]])"
      ]
     },
     "execution_count": 8,
     "metadata": {},
     "output_type": "execute_result"
    }
   ],
   "source": [
    "X.T"
   ]
  },
  {
   "cell_type": "code",
   "execution_count": 9,
   "metadata": {},
   "outputs": [
    {
     "name": "stdout",
     "output_type": "stream",
     "text": [
      "[ 3.  55.  -2.4]\n",
      "[ 3.  55.  -2.4]\n"
     ]
    }
   ],
   "source": [
    "print(x)\n",
    "print(x.T)"
   ]
  },
  {
   "cell_type": "code",
   "execution_count": 10,
   "metadata": {},
   "outputs": [
    {
     "data": {
      "text/plain": [
       "array([13. , 75. , 27.6])"
      ]
     },
     "execution_count": 10,
     "metadata": {},
     "output_type": "execute_result"
    }
   ],
   "source": [
    "y = np.array([10, 20, 30])\n",
    "x + y"
   ]
  },
  {
   "cell_type": "code",
   "execution_count": 11,
   "metadata": {},
   "outputs": [
    {
     "data": {
      "text/plain": [
       "array([ -7. ,  35. , -32.4])"
      ]
     },
     "execution_count": 11,
     "metadata": {},
     "output_type": "execute_result"
    }
   ],
   "source": [
    "x - y"
   ]
  },
  {
   "cell_type": "code",
   "execution_count": 12,
   "metadata": {},
   "outputs": [
    {
     "data": {
      "text/plain": [
       "array([ 12. , 220. ,  -9.6])"
      ]
     },
     "execution_count": 12,
     "metadata": {},
     "output_type": "execute_result"
    }
   ],
   "source": [
    "c = 4\n",
    "c * x"
   ]
  },
  {
   "cell_type": "markdown",
   "metadata": {},
   "source": [
    "$x \\cdot y = x^Ty = \\begin{bmatrix}x_1 & x_2 & x_3\\end{bmatrix} \\begin{bmatrix}y_1 \\\\ y_2 \\\\ y_3 \\end{bmatrix} = x_1y_1 + x_2y_2 + x_3y_3 = \\sum_{i=1}^3x_iy_i = c = c^T = (x^Ty)^T = y^Tx = y\\cdot x$"
   ]
  },
  {
   "cell_type": "code",
   "execution_count": 13,
   "metadata": {},
   "outputs": [
    {
     "name": "stdout",
     "output_type": "stream",
     "text": [
      "1058.0\n"
     ]
    }
   ],
   "source": [
    "c = x.dot(y)\n",
    "print(c)"
   ]
  },
  {
   "cell_type": "markdown",
   "metadata": {},
   "source": [
    "# The norm of an object inform us on how \"big\" is the object\n",
    "\n",
    "This is how we denote the norm of $x$ $||x||$\n",
    "\n",
    "The Euclidean norm is also known as the 2-norm\n",
    "\n",
    "$x\\in\\mathbb{R}^n, \\quad, ||x||_2 = \\sqrt{\\sum_{i=1}^nx_ix_i} = \\sqrt{x\\cdot x} = \\sqrt{x^Tx}$\n",
    "\n",
    "$x\\in\\mathbb{R}^n, \\quad, ||x||_1 = {\\sum_{i=1}^n|x_i|}$\n",
    "\n",
    "$||x||_2^2 = x^Tx$"
   ]
  },
  {
   "cell_type": "code",
   "execution_count": 18,
   "metadata": {},
   "outputs": [
    {
     "name": "stdout",
     "output_type": "stream",
     "text": [
      "2\n",
      "1.4142135623730951\n",
      "[1 1]\n"
     ]
    }
   ],
   "source": [
    "x = np.array([1,1])\n",
    "square_norm_x = x.dot(x)\n",
    "print(square_norm_x)\n",
    "norm_x = np.sqrt(x.dot(x))\n",
    "print(norm_x)\n",
    "print(x)"
   ]
  },
  {
   "cell_type": "code",
   "execution_count": 21,
   "metadata": {},
   "outputs": [
    {
     "name": "stdout",
     "output_type": "stream",
     "text": [
      "[[4 7]\n",
      " [0 8]]\n",
      "[[ 3 10]\n",
      " [-9 16]]\n",
      "[[-3 13]\n",
      " [-3 31]]\n"
     ]
    }
   ],
   "source": [
    "A = np.array([[1, 2],[3, 4]])\n",
    "B = np.array([[3, 5],[-3, 4]])\n",
    "\n",
    "print(A+B)\n",
    "\n",
    "print(A*B) # Element-wise product or Hadamard product\n",
    "\n",
    "print(A.dot(B)) # Standar Matrix multiplication\n",
    "\n",
    "print(A.dot(B).dot(A)) # First it does C = AB, and then D = CA"
   ]
  },
  {
   "cell_type": "markdown",
   "metadata": {},
   "source": [
    "Derivative of $f(x)$ we are going to represent it by $f'(x)$\n",
    "\n",
    "$f(x,y) := x^2 + y^2, x,y\\in\\mathbb{R}$, $f(x,y) : \\mathbb{R} \\times \\mathbb{R} \\to \\mathbb{R}$\n",
    "\n",
    "The gradient of $f$ is represented by $\\nabla f(x,y) = \\begin{bmatrix}\\frac{\\partial f(x,y)}{\\partial x} \\\\ \\frac{\\partial f(x,y)}{\\partial y} \\end{bmatrix}$"
   ]
  },
  {
   "cell_type": "code",
   "execution_count": null,
   "metadata": {},
   "outputs": [],
   "source": []
  }
 ],
 "metadata": {
  "kernelspec": {
   "display_name": "Python 3",
   "language": "python",
   "name": "python3"
  },
  "language_info": {
   "codemirror_mode": {
    "name": "ipython",
    "version": 3
   },
   "file_extension": ".py",
   "mimetype": "text/x-python",
   "name": "python",
   "nbconvert_exporter": "python",
   "pygments_lexer": "ipython3",
   "version": "3.8.10"
  }
 },
 "nbformat": 4,
 "nbformat_minor": 2
}
