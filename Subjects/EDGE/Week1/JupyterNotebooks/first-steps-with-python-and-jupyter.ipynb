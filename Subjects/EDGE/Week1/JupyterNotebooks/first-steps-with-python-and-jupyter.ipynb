{
 "cells": [
  {
   "cell_type": "markdown",
   "metadata": {
    "papermill": {
     "duration": 0.020266,
     "end_time": "2020-09-01T13:12:25.672936",
     "exception": false,
     "start_time": "2020-09-01T13:12:25.652670",
     "status": "completed"
    },
    "tags": []
   },
   "source": [
    "# First Steps with Python and Jupyter \n",
    "\n",
    "### Part 1 of \"A Gentle Introduction to Programming with Python\"\n",
    "\n",
    "This tutorial is the first in a series of beginner-friendly tutorials on programming using the Python language. These tutorials take a practical coding-based approach, and the best way to learn the material is to execute the code and experiment with the examples. Check out the full series here: \n",
    "\n",
    "1. [First Steps with Python and Jupyter](https://jovian.ml/aakashns/first-steps-with-python)\n",
    "2. [A Quick Tour of Variables and Data Types](https://jovian.ml/aakashns/python-variables-and-data-types)\n",
    "3. [Branching using Conditional Statements and Loops](https://jovian.ml/aakashns/python-branching-and-loops)\n",
    "4. [Writing Reusable Code Using Functions](https://jovian.ml/aakashns/python-functions-and-scope)\n",
    "5. [Reading from and Writing to Files](https://jovian.ml/aakashns/python-os-and-filesystem)\n",
    "6. [Object Oriented Programming with Classes](https://jovian.ml/aakashns/python-object-oriented-programming)\n",
    "\n",
    "\n",
    "The following topics are covered in this tutorial:\n",
    "\n",
    "* Performing arithmetic operations using Python\n",
    "* Solving multi-step problems using variables\n",
    "* Evaluating conditions using Python\n",
    "* Combining conditions with logical operators\n",
    "* Adding text styles using Markdown"
   ]
  },
  {
   "cell_type": "markdown",
   "metadata": {
    "papermill": {
     "duration": 0.018094,
     "end_time": "2020-09-01T13:12:25.709959",
     "exception": false,
     "start_time": "2020-09-01T13:12:25.691865",
     "status": "completed"
    },
    "tags": []
   },
   "source": [
    "## How to run the code\n",
    "\n",
    "This tutorial is an executable [*Jupyter notebook*](https://jupyter.org). You can \"run\" this tutorial and experiment with the code examples in a couple of ways: *using free online resources* (recommended) or *on your own computer*.\n",
    "\n",
    "### Option 1: Running on your computer locally\n",
    "You can now access Jupyter's web interface by clicking the link that shows up on the terminal or by visiting http://localhost:8888 on your browser. Click on the notebook `first-steps-with-python.ipynb` to open it and run the code. If you want to type out the code yourself, you can also create a new notebook using the \"New\" button.\n",
    "\n",
    ">  **Jupyter Notebooks**: This tutorial is a [Jupyter notebook](https://jupyter.org) - a document made of \"cells\", which can contain explanations in text or code written in Python. Code cells can be executed and their outputs e.g. numbers, messages, graphs, tables, files etc. can be viewed within the notebook, which makes it a really powerful platform for experimentation and analysis. Don't afraid to experiment with the code & break things - you'll learn a lot by encoutering and fixing errors. You can use the \"Kernel > Restart & Clear Output\" menu option to clear all outputs and start again from the top of the notebook."
   ]
  },
  {
   "cell_type": "markdown",
   "metadata": {
    "papermill": {
     "duration": 0.018034,
     "end_time": "2020-09-01T13:12:25.746599",
     "exception": false,
     "start_time": "2020-09-01T13:12:25.728565",
     "status": "completed"
    },
    "tags": []
   },
   "source": [
    "## Performing Arithmetic Operations using Python\n",
    "\n",
    "Let's begin by using Python as a calculator. You can write and execute Python using a code cell within Jupyter. \n",
    "\n",
    "> **Working with Cells**: To create a new cell within Jupyter, you can select \"Insert > Insert Cell Below\" from the menu bar or just press the \"+\" button on the toolbar. You can also use the keyboard shortcut `Esc+B` to create a new cell. Once a cell is created, click on it to select it. You can then change the cell type to code or markdown (text) using \"Cell > Cell Type\" menu option. You can also use the keyboard shortcuts `Esc+Y` and `Esc+M`. Double click a cell to edit the content within the cell. To apply your changes and run a cell, use the \"Cell > Run Cells\" menu option or click the \"Run\" button on the toolbar or just use the keyboard shortcut `Shift+Enter`. You can see a full list of keyboard shortcuts using the \"Help > Keyboard Shortcuts\" menu option.\n",
    "\n",
    "Run the code cells below to perform calculations and view their result. Try changing the numbers and run the changed cells again to see updated results. Can you guess what the `//`, `%` and `**` operators are used for?"
   ]
  },
  {
   "cell_type": "code",
   "execution_count": null,
   "metadata": {
    "papermill": {
     "duration": 0.029824,
     "end_time": "2020-09-01T13:12:25.795473",
     "exception": false,
     "start_time": "2020-09-01T13:12:25.765649",
     "status": "completed"
    },
    "tags": []
   },
   "outputs": [],
   "source": [
    "2 + 3 + 9"
   ]
  },
  {
   "cell_type": "code",
   "execution_count": null,
   "metadata": {
    "papermill": {
     "duration": 0.028128,
     "end_time": "2020-09-01T13:12:25.842230",
     "exception": false,
     "start_time": "2020-09-01T13:12:25.814102",
     "status": "completed"
    },
    "tags": []
   },
   "outputs": [],
   "source": [
    "99 - 73"
   ]
  },
  {
   "cell_type": "code",
   "execution_count": null,
   "metadata": {
    "papermill": {
     "duration": 0.028366,
     "end_time": "2020-09-01T13:12:25.889785",
     "exception": false,
     "start_time": "2020-09-01T13:12:25.861419",
     "status": "completed"
    },
    "scrolled": true,
    "tags": []
   },
   "outputs": [],
   "source": [
    "23.54 * -1432"
   ]
  },
  {
   "cell_type": "code",
   "execution_count": null,
   "metadata": {
    "papermill": {
     "duration": 0.028514,
     "end_time": "2020-09-01T13:12:25.937228",
     "exception": false,
     "start_time": "2020-09-01T13:12:25.908714",
     "status": "completed"
    },
    "tags": []
   },
   "outputs": [],
   "source": [
    "100 / 7"
   ]
  },
  {
   "cell_type": "code",
   "execution_count": null,
   "metadata": {
    "papermill": {
     "duration": 0.028595,
     "end_time": "2020-09-01T13:12:25.985490",
     "exception": false,
     "start_time": "2020-09-01T13:12:25.956895",
     "status": "completed"
    },
    "tags": []
   },
   "outputs": [],
   "source": [
    "100 // 7"
   ]
  },
  {
   "cell_type": "code",
   "execution_count": null,
   "metadata": {
    "papermill": {
     "duration": 0.029307,
     "end_time": "2020-09-01T13:12:26.034396",
     "exception": false,
     "start_time": "2020-09-01T13:12:26.005089",
     "status": "completed"
    },
    "tags": []
   },
   "outputs": [],
   "source": [
    "100 % 7"
   ]
  },
  {
   "cell_type": "code",
   "execution_count": null,
   "metadata": {
    "papermill": {
     "duration": 0.029124,
     "end_time": "2020-09-01T13:12:26.083215",
     "exception": false,
     "start_time": "2020-09-01T13:12:26.054091",
     "status": "completed"
    },
    "tags": []
   },
   "outputs": [],
   "source": [
    "5 ** 3"
   ]
  },
  {
   "cell_type": "markdown",
   "metadata": {
    "papermill": {
     "duration": 0.019566,
     "end_time": "2020-09-01T13:12:26.122514",
     "exception": false,
     "start_time": "2020-09-01T13:12:26.102948",
     "status": "completed"
    },
    "tags": []
   },
   "source": [
    "As you might expect, certain operators like `/` and `*` take precendence over other operators like `+` and `-` as per mathematical conventions. You can use parantheses i.e. `(` and `)` to specify the order in which operations are performed."
   ]
  },
  {
   "cell_type": "code",
   "execution_count": null,
   "metadata": {
    "papermill": {
     "duration": 0.030058,
     "end_time": "2020-09-01T13:12:26.172276",
     "exception": false,
     "start_time": "2020-09-01T13:12:26.142218",
     "status": "completed"
    },
    "tags": []
   },
   "outputs": [],
   "source": [
    "((2 + 5) * (17 - 3)) / (4 ** 3)"
   ]
  },
  {
   "cell_type": "markdown",
   "metadata": {
    "papermill": {
     "duration": 0.019633,
     "end_time": "2020-09-01T13:12:26.212122",
     "exception": false,
     "start_time": "2020-09-01T13:12:26.192489",
     "status": "completed"
    },
    "tags": []
   },
   "source": [
    "Python supports the following arithmetic operators:\n",
    "\n",
    "| Operator   | Purpose           | Example     | Result    |\n",
    "|------------|-------------------|-------------|-----------|\n",
    "| `+`        | Addition          | `2 + 3`     | `5`       |\n",
    "| `-`        | Subtraction       | `3 - 2`     | `1`       |\n",
    "| `*`        | Multiplication    | `8 * 12`    | `96`      |\n",
    "| `/`        | Division          | `100 / 7`   | `14.28..` |\n",
    "| `//`       | Floor Division    | `100 // 7`  | `14`      |    \n",
    "| `%`        | Modulus/Remainder | `100 % 7`   | `2`       |\n",
    "| `**`       | Exponent          | `5 ** 3`    | `125`     |\n",
    "\n",
    "\n",
    "Try solving some simple problems from this page: https://www.math-only-math.com/worksheet-on-word-problems-on-four-operations.html . You can use the empty cells below and add more cells if required."
   ]
  },
  {
   "cell_type": "code",
   "execution_count": null,
   "metadata": {
    "papermill": {
     "duration": 0.019561,
     "end_time": "2020-09-01T13:12:26.251708",
     "exception": false,
     "start_time": "2020-09-01T13:12:26.232147",
     "status": "completed"
    },
    "tags": []
   },
   "outputs": [],
   "source": []
  },
  {
   "cell_type": "code",
   "execution_count": null,
   "metadata": {
    "papermill": {
     "duration": 0.01953,
     "end_time": "2020-09-01T13:12:26.291071",
     "exception": false,
     "start_time": "2020-09-01T13:12:26.271541",
     "status": "completed"
    },
    "tags": []
   },
   "outputs": [],
   "source": []
  },
  {
   "cell_type": "code",
   "execution_count": null,
   "metadata": {
    "papermill": {
     "duration": 0.019691,
     "end_time": "2020-09-01T13:12:26.331028",
     "exception": false,
     "start_time": "2020-09-01T13:12:26.311337",
     "status": "completed"
    },
    "tags": []
   },
   "outputs": [],
   "source": []
  },
  {
   "cell_type": "code",
   "execution_count": null,
   "metadata": {
    "papermill": {
     "duration": 0.019718,
     "end_time": "2020-09-01T13:12:26.371484",
     "exception": false,
     "start_time": "2020-09-01T13:12:26.351766",
     "status": "completed"
    },
    "tags": []
   },
   "outputs": [],
   "source": []
  },
  {
   "cell_type": "markdown",
   "metadata": {
    "papermill": {
     "duration": 0.019593,
     "end_time": "2020-09-01T13:12:26.411111",
     "exception": false,
     "start_time": "2020-09-01T13:12:26.391518",
     "status": "completed"
    },
    "tags": []
   },
   "source": [
    "## Solving multi-step problems using variables\n",
    "\n",
    "Let's try solving the following word problem using Python: \n",
    "\n",
    "> A grocery store sells a bag of ice for $1.25, and makes 20% profit. If it sells 500 bags of ice, how much total profit does it make?\n",
    "\n",
    "We can list out the information provided, and gradually convert the word problem into a mathematical expression which can be evaluated using Python. \n",
    "\n",
    "*Cost of ice bag ($)* = 1.25\n",
    "\n",
    "*Profit margin* = 20% = .2\n",
    "\n",
    "*Profit per bag ($)* = profit margin * cost of ice bag = .2 * 1.25\n",
    "\n",
    "*No. of bags* = 500\n",
    "\n",
    "*Total profit* = no. of bags * profit per bag = 500 * (.2 * 1.25)"
   ]
  },
  {
   "cell_type": "code",
   "execution_count": null,
   "metadata": {
    "papermill": {
     "duration": 0.029556,
     "end_time": "2020-09-01T13:12:26.460578",
     "exception": false,
     "start_time": "2020-09-01T13:12:26.431022",
     "status": "completed"
    },
    "tags": []
   },
   "outputs": [],
   "source": [
    "500 * (.2 * 1.25)"
   ]
  },
  {
   "cell_type": "markdown",
   "metadata": {
    "papermill": {
     "duration": 0.019867,
     "end_time": "2020-09-01T13:12:26.500483",
     "exception": false,
     "start_time": "2020-09-01T13:12:26.480616",
     "status": "completed"
    },
    "tags": []
   },
   "source": [
    "Thus, the grocery store makes a total profit of $125.0 . While this is a reasonable way to solve a problem, it's not quite clear by looking at the code cell what the numbers represent. We can give names to each of the numbers by creating Python *variables*.\n",
    "\n",
    "> **Variables**: While working with a programming language such as Python, informations is stored in *variables*. You can think of variables as containers for storing data. The data stored within a variable is called it's *value*."
   ]
  },
  {
   "cell_type": "code",
   "execution_count": null,
   "metadata": {
    "papermill": {
     "duration": 0.028145,
     "end_time": "2020-09-01T13:12:26.548692",
     "exception": false,
     "start_time": "2020-09-01T13:12:26.520547",
     "status": "completed"
    },
    "tags": []
   },
   "outputs": [],
   "source": [
    "cost_of_ice_bag = 1.25"
   ]
  },
  {
   "cell_type": "code",
   "execution_count": null,
   "metadata": {
    "papermill": {
     "duration": 0.028781,
     "end_time": "2020-09-01T13:12:26.597841",
     "exception": false,
     "start_time": "2020-09-01T13:12:26.569060",
     "status": "completed"
    },
    "tags": []
   },
   "outputs": [],
   "source": [
    "profit_margin = .2"
   ]
  },
  {
   "cell_type": "code",
   "execution_count": null,
   "metadata": {
    "papermill": {
     "duration": 0.028071,
     "end_time": "2020-09-01T13:12:26.646153",
     "exception": false,
     "start_time": "2020-09-01T13:12:26.618082",
     "status": "completed"
    },
    "tags": []
   },
   "outputs": [],
   "source": [
    "number_of_bags = 500"
   ]
  },
  {
   "cell_type": "markdown",
   "metadata": {
    "papermill": {
     "duration": 0.019915,
     "end_time": "2020-09-01T13:12:26.686206",
     "exception": false,
     "start_time": "2020-09-01T13:12:26.666291",
     "status": "completed"
    },
    "tags": []
   },
   "source": [
    "The variables `cost_of_ice_bag`, `profit_margin` and `number_of_bags` now contain the information provided in the word problem. We can check the value of a variable by typing its name into a cell, and we can combine variables using arithmetic operations to create other variables.\n",
    "\n",
    "> Tip: While typing the name of an existing variable in a code cell within Jupyter, you can type the first few characters and press the `Tab` key to autocomplete the variable's name. Try typing `pro` in a code cell below and press `Tab` to autocomplete to `profit_margin`."
   ]
  },
  {
   "cell_type": "code",
   "execution_count": null,
   "metadata": {
    "papermill": {
     "duration": 0.029573,
     "end_time": "2020-09-01T13:12:26.736009",
     "exception": false,
     "start_time": "2020-09-01T13:12:26.706436",
     "status": "completed"
    },
    "tags": []
   },
   "outputs": [],
   "source": [
    "profit_margin"
   ]
  },
  {
   "cell_type": "code",
   "execution_count": null,
   "metadata": {
    "papermill": {
     "duration": 0.028267,
     "end_time": "2020-09-01T13:12:26.784891",
     "exception": false,
     "start_time": "2020-09-01T13:12:26.756624",
     "status": "completed"
    },
    "tags": []
   },
   "outputs": [],
   "source": [
    "profit_per_bag = cost_of_ice_bag * profit_margin"
   ]
  },
  {
   "cell_type": "code",
   "execution_count": null,
   "metadata": {
    "papermill": {
     "duration": 0.029728,
     "end_time": "2020-09-01T13:12:26.835157",
     "exception": false,
     "start_time": "2020-09-01T13:12:26.805429",
     "status": "completed"
    },
    "tags": []
   },
   "outputs": [],
   "source": [
    "profit_per_bag"
   ]
  },
  {
   "cell_type": "code",
   "execution_count": null,
   "metadata": {
    "papermill": {
     "duration": 0.028654,
     "end_time": "2020-09-01T13:12:26.884536",
     "exception": false,
     "start_time": "2020-09-01T13:12:26.855882",
     "status": "completed"
    },
    "tags": []
   },
   "outputs": [],
   "source": [
    "total_profit = number_of_bags * profit_per_bag"
   ]
  },
  {
   "cell_type": "code",
   "execution_count": null,
   "metadata": {
    "papermill": {
     "duration": 0.029653,
     "end_time": "2020-09-01T13:12:26.935198",
     "exception": false,
     "start_time": "2020-09-01T13:12:26.905545",
     "status": "completed"
    },
    "tags": []
   },
   "outputs": [],
   "source": [
    "total_profit"
   ]
  },
  {
   "cell_type": "markdown",
   "metadata": {
    "papermill": {
     "duration": 0.020874,
     "end_time": "2020-09-01T13:12:26.977142",
     "exception": false,
     "start_time": "2020-09-01T13:12:26.956268",
     "status": "completed"
    },
    "tags": []
   },
   "source": [
    "If you try to see the value of a variable that has not been *defined* i.e. given a value using the assignment statement `variable_name = value`, then Python shows an error."
   ]
  },
  {
   "cell_type": "code",
   "execution_count": null,
   "metadata": {
    "papermill": {
     "duration": 0.029966,
     "end_time": "2020-09-01T13:12:27.028533",
     "exception": false,
     "start_time": "2020-09-01T13:12:26.998567",
     "status": "completed"
    },
    "tags": []
   },
   "outputs": [],
   "source": [
    "# net_profit # Shows error here"
   ]
  },
  {
   "cell_type": "markdown",
   "metadata": {
    "papermill": {
     "duration": 0.021049,
     "end_time": "2020-09-01T13:12:27.070795",
     "exception": false,
     "start_time": "2020-09-01T13:12:27.049746",
     "status": "completed"
    },
    "tags": []
   },
   "source": [
    "Storing and manipulating data using appropriately named variables is a great way to explain what your code does.\n",
    "\n",
    "Let's display the result of the word problem using a friendly message. We can do this using the `print` *function*.\n",
    "\n",
    "> **Functions**: A function is a reusable set of instructions. A function takes one or more inputs, performs certain operations, and often returns an output. Python provides many in-built functions like `print`, and also allows us to define our own functions."
   ]
  },
  {
   "cell_type": "code",
   "execution_count": null,
   "metadata": {
    "papermill": {
     "duration": 0.031639,
     "end_time": "2020-09-01T13:12:27.123587",
     "exception": false,
     "start_time": "2020-09-01T13:12:27.091948",
     "status": "completed"
    },
    "tags": []
   },
   "outputs": [],
   "source": [
    "print(\"The grocery store makes a total profit of $\", total_profit)"
   ]
  },
  {
   "cell_type": "markdown",
   "metadata": {
    "papermill": {
     "duration": 0.024275,
     "end_time": "2020-09-01T13:12:27.170014",
     "exception": false,
     "start_time": "2020-09-01T13:12:27.145739",
     "status": "completed"
    },
    "tags": []
   },
   "source": [
    "> **`print`**: The `print` function is used to display information. It takes one or more inputs which can be text (within quotes e.g. `\"this is some text\"`), numbers, variables, mathematical expressions etc. We'll learn more about variables & functions in the next section.\n",
    "\n",
    "Creating a code cell for each variable or mathematical operation can get tedious. Fortunately, Jupyter allows you write multiple lines of code within a single code cell. Let's rewrite the solution to our word problem within a single cell."
   ]
  },
  {
   "cell_type": "code",
   "execution_count": null,
   "metadata": {
    "papermill": {
     "duration": 0.031707,
     "end_time": "2020-09-01T13:12:27.223723",
     "exception": false,
     "start_time": "2020-09-01T13:12:27.192016",
     "status": "completed"
    },
    "tags": []
   },
   "outputs": [],
   "source": [
    "# Store input data in variables\n",
    "cost_of_ice_bag = 1.25\n",
    "profit_margin = .2\n",
    "number_of_bags = 500\n",
    "\n",
    "# Perform the required calculations\n",
    "profit_per_bag = cost_of_ice_bag * profit_margin\n",
    "total_profit = number_of_bags * profit_per_bag\n",
    "\n",
    "# Display the result\n",
    "print(\"The grocery store makes a total profit of $\", total_profit)"
   ]
  },
  {
   "cell_type": "markdown",
   "metadata": {
    "papermill": {
     "duration": 0.06829,
     "end_time": "2020-09-01T13:12:27.313888",
     "exception": false,
     "start_time": "2020-09-01T13:12:27.245598",
     "status": "completed"
    },
    "tags": []
   },
   "source": [
    "Note that we're using the `#` character to add *comments* within our code. \n",
    "\n",
    "> **Comments**: Comments and blank lines are ignored during execution, but they are useful for providing information to other humans (including yourself) about what the code does. Comments can be inline (at the end of some code), on a separate line, or even span multiple lines. \n",
    "\n",
    "Inline and single line comments start with `#`, whereas multi-line comments begin and end with three quotes i.e `\"\"\"`. Here are some examples of code comments:"
   ]
  },
  {
   "cell_type": "code",
   "execution_count": null,
   "metadata": {
    "papermill": {
     "duration": 0.029729,
     "end_time": "2020-09-01T13:12:27.365146",
     "exception": false,
     "start_time": "2020-09-01T13:12:27.335417",
     "status": "completed"
    },
    "tags": []
   },
   "outputs": [],
   "source": [
    "my_favorite_number = 1 # an inline comment"
   ]
  },
  {
   "cell_type": "code",
   "execution_count": null,
   "metadata": {
    "papermill": {
     "duration": 0.029138,
     "end_time": "2020-09-01T13:12:27.415891",
     "exception": false,
     "start_time": "2020-09-01T13:12:27.386753",
     "status": "completed"
    },
    "tags": []
   },
   "outputs": [],
   "source": [
    "# This comment gets its own line\n",
    "my_least_favorite_number = 3"
   ]
  },
  {
   "cell_type": "code",
   "execution_count": null,
   "metadata": {
    "papermill": {
     "duration": 0.03023,
     "end_time": "2020-09-01T13:12:27.467932",
     "exception": false,
     "start_time": "2020-09-01T13:12:27.437702",
     "status": "completed"
    },
    "tags": []
   },
   "outputs": [],
   "source": [
    "\"\"\"This is a multi-line comment.\n",
    "Write as little or as much as you'd like.\n",
    "\n",
    "Comments are really helpful for people reading\n",
    "your code, but try to keep them short & to-the-point.\n",
    "\n",
    "Also, if you use good variable names, then your code is\n",
    "often self explanatory, and you may not even need comments!\n",
    "\"\"\"\n",
    "a_neutral_number = 5"
   ]
  },
  {
   "cell_type": "markdown",
   "metadata": {
    "papermill": {
     "duration": 0.021358,
     "end_time": "2020-09-01T13:12:27.511184",
     "exception": false,
     "start_time": "2020-09-01T13:12:27.489826",
     "status": "completed"
    },
    "tags": []
   },
   "source": [
    "## Evaluating conditions using Python\n",
    "\n",
    "Apart from arithmetic operations, Python also provides several oprations for comparing numbers & variables.\n",
    "\n",
    "| Operator    | Description                                                     |\n",
    "|-------------|-----------------------------------------------------------------|\n",
    "| `==`        | Check if operands are equal                                     |\n",
    "| `!=`        | Check if operands are not equal                                 |\n",
    "| `>`         | Check if left operand is greater than right operand             |\n",
    "| `<`         | Check if left operand is less than right operand                |\n",
    "| `>=`        | Check if left operand is greater than or equal to right operand |\n",
    "| `<=`        | Check if left operand is less than or equal to right operand    |\n",
    "\n",
    "The result of a comparision operation is either `True` or `False` (note the uppercase `T` and `F`). These are special keywords in Python. Let's try out some experiment with comparision operators."
   ]
  },
  {
   "cell_type": "code",
   "execution_count": null,
   "metadata": {
    "papermill": {
     "duration": 0.030542,
     "end_time": "2020-09-01T13:12:27.563335",
     "exception": false,
     "start_time": "2020-09-01T13:12:27.532793",
     "status": "completed"
    },
    "tags": []
   },
   "outputs": [],
   "source": [
    "my_favorite_number = 1\n",
    "my_least_favorite_number = 5\n",
    "a_neutral_number = 3"
   ]
  },
  {
   "cell_type": "code",
   "execution_count": null,
   "metadata": {
    "papermill": {
     "duration": 0.031653,
     "end_time": "2020-09-01T13:12:27.616688",
     "exception": false,
     "start_time": "2020-09-01T13:12:27.585035",
     "status": "completed"
    },
    "tags": []
   },
   "outputs": [],
   "source": [
    "# Equality check - True\n",
    "my_favorite_number == 1"
   ]
  },
  {
   "cell_type": "code",
   "execution_count": null,
   "metadata": {
    "papermill": {
     "duration": 0.031443,
     "end_time": "2020-09-01T13:12:27.670526",
     "exception": false,
     "start_time": "2020-09-01T13:12:27.639083",
     "status": "completed"
    },
    "tags": []
   },
   "outputs": [],
   "source": [
    "# Equality check - False\n",
    "my_favorite_number == my_least_favorite_number"
   ]
  },
  {
   "cell_type": "code",
   "execution_count": null,
   "metadata": {
    "papermill": {
     "duration": 0.031052,
     "end_time": "2020-09-01T13:12:27.723848",
     "exception": false,
     "start_time": "2020-09-01T13:12:27.692796",
     "status": "completed"
    },
    "tags": []
   },
   "outputs": [],
   "source": [
    "# Not equal check - True\n",
    "my_favorite_number != a_neutral_number"
   ]
  },
  {
   "cell_type": "code",
   "execution_count": null,
   "metadata": {
    "papermill": {
     "duration": 0.032282,
     "end_time": "2020-09-01T13:12:27.778691",
     "exception": false,
     "start_time": "2020-09-01T13:12:27.746409",
     "status": "completed"
    },
    "tags": []
   },
   "outputs": [],
   "source": [
    "# Not equal check - False\n",
    "a_neutral_number != 3"
   ]
  },
  {
   "cell_type": "code",
   "execution_count": null,
   "metadata": {
    "papermill": {
     "duration": 0.032179,
     "end_time": "2020-09-01T13:12:27.833505",
     "exception": false,
     "start_time": "2020-09-01T13:12:27.801326",
     "status": "completed"
    },
    "tags": []
   },
   "outputs": [],
   "source": [
    "# Greater than check - True\n",
    "my_least_favorite_number > a_neutral_number"
   ]
  },
  {
   "cell_type": "code",
   "execution_count": null,
   "metadata": {
    "papermill": {
     "duration": 0.031964,
     "end_time": "2020-09-01T13:12:27.888314",
     "exception": false,
     "start_time": "2020-09-01T13:12:27.856350",
     "status": "completed"
    },
    "tags": []
   },
   "outputs": [],
   "source": [
    "# Greater than check - False\n",
    "my_favorite_number > my_least_favorite_number"
   ]
  },
  {
   "cell_type": "code",
   "execution_count": null,
   "metadata": {
    "papermill": {
     "duration": 0.033015,
     "end_time": "2020-09-01T13:12:27.944551",
     "exception": false,
     "start_time": "2020-09-01T13:12:27.911536",
     "status": "completed"
    },
    "tags": []
   },
   "outputs": [],
   "source": [
    "# Less than check - True\n",
    "my_favorite_number < 10"
   ]
  },
  {
   "cell_type": "code",
   "execution_count": null,
   "metadata": {
    "papermill": {
     "duration": 0.033041,
     "end_time": "2020-09-01T13:12:28.000739",
     "exception": false,
     "start_time": "2020-09-01T13:12:27.967698",
     "status": "completed"
    },
    "tags": []
   },
   "outputs": [],
   "source": [
    "# Less than check - False\n",
    "my_least_favorite_number < my_favorite_number"
   ]
  },
  {
   "cell_type": "code",
   "execution_count": null,
   "metadata": {
    "papermill": {
     "duration": 0.03305,
     "end_time": "2020-09-01T13:12:28.057718",
     "exception": false,
     "start_time": "2020-09-01T13:12:28.024668",
     "status": "completed"
    },
    "tags": []
   },
   "outputs": [],
   "source": [
    "# Greater than or equal check - True\n",
    "my_favorite_number >= 1"
   ]
  },
  {
   "cell_type": "code",
   "execution_count": null,
   "metadata": {
    "papermill": {
     "duration": 0.033319,
     "end_time": "2020-09-01T13:12:28.114502",
     "exception": false,
     "start_time": "2020-09-01T13:12:28.081183",
     "status": "completed"
    },
    "tags": []
   },
   "outputs": [],
   "source": [
    "# Greater than or equal check - False\n",
    "my_favorite_number >= 3"
   ]
  },
  {
   "cell_type": "code",
   "execution_count": null,
   "metadata": {
    "papermill": {
     "duration": 0.033953,
     "end_time": "2020-09-01T13:12:28.172553",
     "exception": false,
     "start_time": "2020-09-01T13:12:28.138600",
     "status": "completed"
    },
    "tags": []
   },
   "outputs": [],
   "source": [
    "# Less than or equal check - True\n",
    "3 + 6 <= 9"
   ]
  },
  {
   "cell_type": "code",
   "execution_count": null,
   "metadata": {
    "papermill": {
     "duration": 0.033237,
     "end_time": "2020-09-01T13:12:28.230118",
     "exception": false,
     "start_time": "2020-09-01T13:12:28.196881",
     "status": "completed"
    },
    "tags": []
   },
   "outputs": [],
   "source": [
    "# Less than or equal check - False\n",
    "my_favorite_number + a_neutral_number <= 3"
   ]
  },
  {
   "cell_type": "markdown",
   "metadata": {
    "papermill": {
     "duration": 0.023539,
     "end_time": "2020-09-01T13:12:28.277567",
     "exception": false,
     "start_time": "2020-09-01T13:12:28.254028",
     "status": "completed"
    },
    "tags": []
   },
   "source": [
    "Just like arithmetic operations, the result of a comparison opration can also be stored in a variable."
   ]
  },
  {
   "cell_type": "code",
   "execution_count": null,
   "metadata": {
    "papermill": {
     "duration": 0.033227,
     "end_time": "2020-09-01T13:12:28.334572",
     "exception": false,
     "start_time": "2020-09-01T13:12:28.301345",
     "status": "completed"
    },
    "tags": []
   },
   "outputs": [],
   "source": [
    "cost_of_ice_bag = 1.25\n",
    "is_ice_bag_expensive = cost_of_ice_bag >= 10\n",
    "print(\"Is the ice bag expensive?\", is_ice_bag_expensive)"
   ]
  },
  {
   "cell_type": "markdown",
   "metadata": {
    "papermill": {
     "duration": 0.023546,
     "end_time": "2020-09-01T13:12:28.382533",
     "exception": false,
     "start_time": "2020-09-01T13:12:28.358987",
     "status": "completed"
    },
    "tags": []
   },
   "source": [
    "## Combining conditions with logical operators\n",
    "\n",
    "The logical operators `and`, `or` and `not` operate upon conditions and `True` & `False` values (also known as *booleans*). `and` and `or` operate on two conditions, whereas `not` operates on a single condition.\n",
    "\n",
    "The `and` operator returns `True` when both the conditions evalute to `True`. Otherwise it returns `False`.\n",
    "\n",
    "| `a`     | `b`    | `a and b` |\n",
    "|---------|--------|-----------|\n",
    "|  `True` | `True` | `True`    |\n",
    "|  `True` | `False`| `False`   |\n",
    "|  `False`| `True` | `False`   |\n",
    "|  `False`| `False`| `False`   |\n"
   ]
  },
  {
   "cell_type": "code",
   "execution_count": null,
   "metadata": {
    "papermill": {
     "duration": 0.033561,
     "end_time": "2020-09-01T13:12:28.440269",
     "exception": false,
     "start_time": "2020-09-01T13:12:28.406708",
     "status": "completed"
    },
    "scrolled": true,
    "tags": []
   },
   "outputs": [],
   "source": [
    "my_favorite_number"
   ]
  },
  {
   "cell_type": "code",
   "execution_count": null,
   "metadata": {
    "papermill": {
     "duration": 0.03385,
     "end_time": "2020-09-01T13:12:28.498610",
     "exception": false,
     "start_time": "2020-09-01T13:12:28.464760",
     "status": "completed"
    },
    "tags": []
   },
   "outputs": [],
   "source": [
    "my_favorite_number > 0 and my_favorite_number <= 3"
   ]
  },
  {
   "cell_type": "code",
   "execution_count": null,
   "metadata": {
    "papermill": {
     "duration": 0.034501,
     "end_time": "2020-09-01T13:12:28.557887",
     "exception": false,
     "start_time": "2020-09-01T13:12:28.523386",
     "status": "completed"
    },
    "tags": []
   },
   "outputs": [],
   "source": [
    "my_favorite_number < 0 and my_favorite_number <= 3"
   ]
  },
  {
   "cell_type": "code",
   "execution_count": null,
   "metadata": {
    "papermill": {
     "duration": 0.034784,
     "end_time": "2020-09-01T13:12:28.617777",
     "exception": false,
     "start_time": "2020-09-01T13:12:28.582993",
     "status": "completed"
    },
    "tags": []
   },
   "outputs": [],
   "source": [
    "my_favorite_number > 0 and my_favorite_number >= 3"
   ]
  },
  {
   "cell_type": "code",
   "execution_count": null,
   "metadata": {
    "papermill": {
     "duration": 0.034611,
     "end_time": "2020-09-01T13:12:28.677090",
     "exception": false,
     "start_time": "2020-09-01T13:12:28.642479",
     "status": "completed"
    },
    "tags": []
   },
   "outputs": [],
   "source": [
    "True and False"
   ]
  },
  {
   "cell_type": "code",
   "execution_count": null,
   "metadata": {
    "papermill": {
     "duration": 0.034451,
     "end_time": "2020-09-01T13:12:28.736673",
     "exception": false,
     "start_time": "2020-09-01T13:12:28.702222",
     "status": "completed"
    },
    "tags": []
   },
   "outputs": [],
   "source": [
    "True and True"
   ]
  },
  {
   "cell_type": "markdown",
   "metadata": {
    "papermill": {
     "duration": 0.024791,
     "end_time": "2020-09-01T13:12:28.786872",
     "exception": false,
     "start_time": "2020-09-01T13:12:28.762081",
     "status": "completed"
    },
    "tags": []
   },
   "source": [
    "The `or` operator returns `True` if at least one of the conditions evalute to `True`. It returns `False` only if both conditions are `False`.\n",
    "\n",
    "| `a`     | `b`    | `a or b`  |\n",
    "|---------|--------|-----------|\n",
    "|  `True` | `True` | `True`    |\n",
    "|  `True` | `False`| `True`    |\n",
    "|  `False`| `True` | `True`    |\n",
    "|  `False`| `False`| `False`   |\n",
    "\n"
   ]
  },
  {
   "cell_type": "code",
   "execution_count": null,
   "metadata": {
    "papermill": {
     "duration": 0.032689,
     "end_time": "2020-09-01T13:12:28.844574",
     "exception": false,
     "start_time": "2020-09-01T13:12:28.811885",
     "status": "completed"
    },
    "tags": []
   },
   "outputs": [],
   "source": [
    "a_neutral_number = 3"
   ]
  },
  {
   "cell_type": "code",
   "execution_count": null,
   "metadata": {
    "papermill": {
     "duration": 0.035893,
     "end_time": "2020-09-01T13:12:28.906029",
     "exception": false,
     "start_time": "2020-09-01T13:12:28.870136",
     "status": "completed"
    },
    "tags": []
   },
   "outputs": [],
   "source": [
    "a_neutral_number == 3 or my_favorite_number < 0"
   ]
  },
  {
   "cell_type": "code",
   "execution_count": null,
   "metadata": {
    "papermill": {
     "duration": 0.03489,
     "end_time": "2020-09-01T13:12:28.966573",
     "exception": false,
     "start_time": "2020-09-01T13:12:28.931683",
     "status": "completed"
    },
    "tags": []
   },
   "outputs": [],
   "source": [
    "a_neutral_number != 3 or my_favorite_number < 0"
   ]
  },
  {
   "cell_type": "code",
   "execution_count": null,
   "metadata": {
    "papermill": {
     "duration": 0.036237,
     "end_time": "2020-09-01T13:12:29.028426",
     "exception": false,
     "start_time": "2020-09-01T13:12:28.992189",
     "status": "completed"
    },
    "tags": []
   },
   "outputs": [],
   "source": [
    "my_favorite_number < 0 or True"
   ]
  },
  {
   "cell_type": "code",
   "execution_count": null,
   "metadata": {
    "papermill": {
     "duration": 0.035621,
     "end_time": "2020-09-01T13:12:29.089945",
     "exception": false,
     "start_time": "2020-09-01T13:12:29.054324",
     "status": "completed"
    },
    "tags": []
   },
   "outputs": [],
   "source": [
    "False or False"
   ]
  },
  {
   "cell_type": "markdown",
   "metadata": {
    "papermill": {
     "duration": 0.025653,
     "end_time": "2020-09-01T13:12:29.142302",
     "exception": false,
     "start_time": "2020-09-01T13:12:29.116649",
     "status": "completed"
    },
    "tags": []
   },
   "source": [
    "The `not` operator returns `False` if a condition is `True` and `True` if the condition is `False`."
   ]
  },
  {
   "cell_type": "code",
   "execution_count": null,
   "metadata": {
    "papermill": {
     "duration": 0.03559,
     "end_time": "2020-09-01T13:12:29.204464",
     "exception": false,
     "start_time": "2020-09-01T13:12:29.168874",
     "status": "completed"
    },
    "tags": []
   },
   "outputs": [],
   "source": [
    "not a_neutral_number == 3"
   ]
  },
  {
   "cell_type": "code",
   "execution_count": null,
   "metadata": {
    "papermill": {
     "duration": 0.036322,
     "end_time": "2020-09-01T13:12:29.266906",
     "exception": false,
     "start_time": "2020-09-01T13:12:29.230584",
     "status": "completed"
    },
    "tags": []
   },
   "outputs": [],
   "source": [
    "not my_favorite_number < 0"
   ]
  },
  {
   "cell_type": "code",
   "execution_count": null,
   "metadata": {
    "papermill": {
     "duration": 0.036071,
     "end_time": "2020-09-01T13:12:29.329293",
     "exception": false,
     "start_time": "2020-09-01T13:12:29.293222",
     "status": "completed"
    },
    "tags": []
   },
   "outputs": [],
   "source": [
    "not False"
   ]
  },
  {
   "cell_type": "code",
   "execution_count": null,
   "metadata": {
    "papermill": {
     "duration": 0.036568,
     "end_time": "2020-09-01T13:12:29.393062",
     "exception": false,
     "start_time": "2020-09-01T13:12:29.356494",
     "status": "completed"
    },
    "tags": []
   },
   "outputs": [],
   "source": [
    "not True"
   ]
  },
  {
   "cell_type": "markdown",
   "metadata": {
    "papermill": {
     "duration": 0.026508,
     "end_time": "2020-09-01T13:12:29.446318",
     "exception": false,
     "start_time": "2020-09-01T13:12:29.419810",
     "status": "completed"
    },
    "tags": []
   },
   "source": [
    "Logical operators can be combined to form complex conditions. Use round brackets or parantheses `(` and `)` to indicate the order in which logical operators should be applied."
   ]
  },
  {
   "cell_type": "code",
   "execution_count": null,
   "metadata": {
    "papermill": {
     "duration": 0.036874,
     "end_time": "2020-09-01T13:12:29.510201",
     "exception": false,
     "start_time": "2020-09-01T13:12:29.473327",
     "status": "completed"
    },
    "tags": []
   },
   "outputs": [],
   "source": [
    "(2 > 3 and 4 <= 5) or not (my_favorite_number < 0 and True)"
   ]
  },
  {
   "cell_type": "code",
   "execution_count": null,
   "metadata": {
    "papermill": {
     "duration": 0.038803,
     "end_time": "2020-09-01T13:12:29.576461",
     "exception": false,
     "start_time": "2020-09-01T13:12:29.537658",
     "status": "completed"
    },
    "tags": []
   },
   "outputs": [],
   "source": [
    "not (True and 0 < 1) or (False and True)"
   ]
  },
  {
   "cell_type": "markdown",
   "metadata": {
    "papermill": {
     "duration": 0.027083,
     "end_time": "2020-09-01T13:12:29.631026",
     "exception": false,
     "start_time": "2020-09-01T13:12:29.603943",
     "status": "completed"
    },
    "tags": []
   },
   "source": [
    "If parantheses are not used, logical operators are applied from left to right."
   ]
  },
  {
   "cell_type": "code",
   "execution_count": null,
   "metadata": {
    "papermill": {
     "duration": 0.037882,
     "end_time": "2020-09-01T13:12:29.696424",
     "exception": false,
     "start_time": "2020-09-01T13:12:29.658542",
     "status": "completed"
    },
    "tags": []
   },
   "outputs": [],
   "source": [
    "not True and 0 < 1 or False and True"
   ]
  },
  {
   "cell_type": "markdown",
   "metadata": {
    "papermill": {
     "duration": 0.027391,
     "end_time": "2020-09-01T13:12:29.751623",
     "exception": false,
     "start_time": "2020-09-01T13:12:29.724232",
     "status": "completed"
    },
    "tags": []
   },
   "source": [
    "Experiment with arithmetic, conditional and logical operators in Python using the interactive nature of Jupyter notebook. We will learn more about variables and functions in future tutorials."
   ]
  },
  {
   "cell_type": "markdown",
   "metadata": {
    "papermill": {
     "duration": 0.027144,
     "end_time": "2020-09-01T13:12:29.806318",
     "exception": false,
     "start_time": "2020-09-01T13:12:29.779174",
     "status": "completed"
    },
    "tags": []
   },
   "source": [
    "## Adding text styles using Markdown\n",
    "\n",
    "Adding explanations using text cells (like this one) is great way to make your notebook informative for other readers, and for yourself, if you need to refer back to it in the future. Double click on a text cell within Jupyter to edit it. In the edit mode, you'll notice that the text looks a little different (for instance the heading has a `##` prefix. This text is writted using Markdown, a simple way to add styles to your text. Execute this cell to see the output without the special characters. You can switch back and forth between the source and the output to see how to create a specific style.\n",
    "\n",
    "For, instance, you can use one or more `#` characters at the start of a line to create headers of different sizes:\n",
    "\n",
    "# Header 1\n",
    "\n",
    "## Header 2\n",
    "\n",
    "### Header 3\n",
    "\n",
    "#### Header 4\n",
    "\n",
    "To create a bulleted or numbered list, simply start a line with `*` or `1.`.\n",
    "\n",
    "A bulleted list:\n",
    "\n",
    "* Item 1\n",
    "* Item 2\n",
    "* Item 3\n",
    "\n",
    "A numbered list:\n",
    "\n",
    "1. Apple\n",
    "2. Banana\n",
    "3. Pineapple\n",
    "\n",
    "You can make some text bold using `**` e.g. **this is some bold text**, or make it italic using `*` e.g. *this is some italic text.* You can also create links e.g. [this is a link to google](https://www.google.com). Images are easily embedded too:\n",
    "\n",
    "![](https://www.ucm.es/file/ucm-logo-colorw/?ver)\n",
    "\n",
    "Another really nice feature of Markdown is ability to include blocks of code. Note that code blocks inside Markdown cells cannot be executed.\n",
    "\n",
    "```\n",
    "# Perform the required calculations\n",
    "profit_per_bag = cost_of_ice_bag * profit_margin\n",
    "total_profit = number_of_bags * profit_per_bag\n",
    "\n",
    "# Display the result\n",
    "print(\"The grocery store makes a total profit of $\", total_profit)\n",
    "\n",
    "```\n",
    "\n",
    "You can learn the full syntax of Markdown here: https://learnxinyminutes.com/docs/markdown/"
   ]
  },
  {
   "cell_type": "markdown",
   "metadata": {
    "papermill": {
     "duration": 0.028058,
     "end_time": "2020-09-01T13:12:45.180031",
     "exception": false,
     "start_time": "2020-09-01T13:12:45.151973",
     "status": "completed"
    },
    "tags": []
   },
   "source": [
    "## Further Reading and References\n",
    "\n",
    "Following are some resources to learn about more arithmetic, conditional and logical operations in Python:\n",
    "\n",
    "* Python Tutorial at W3Schools: https://www.w3schools.com/python/\n",
    "* Practical Python Programming: https://dabeaz-course.github.io/practical-python/Notes/Contents.html\n",
    "* Python official documentation: https://docs.python.org/3/tutorial/index.html\n",
    "\n",
    "Now that you have taken your first steps with Python, you are ready to move on to the next tutorial: [\"A Quick Tour of Variables and Data Types in Python\"](https://jovian.ml/aakashns/python-variables-and-data-types)."
   ]
  }
 ],
 "metadata": {
  "kernelspec": {
   "display_name": "Python 3",
   "language": "python",
   "name": "python3"
  },
  "language_info": {
   "codemirror_mode": {
    "name": "ipython",
    "version": 3
   },
   "file_extension": ".py",
   "mimetype": "text/x-python",
   "name": "python",
   "nbconvert_exporter": "python",
   "pygments_lexer": "ipython3",
   "version": "3.8.12"
  },
  "papermill": {
   "duration": 24.765806,
   "end_time": "2020-09-01T13:12:45.316387",
   "environment_variables": {},
   "exception": null,
   "input_path": "__notebook__.ipynb",
   "output_path": "__notebook__.ipynb",
   "parameters": {},
   "start_time": "2020-09-01T13:12:20.550581",
   "version": "2.1.0"
  }
 },
 "nbformat": 4,
 "nbformat_minor": 4
}
