{
 "cells": [
  {
   "cell_type": "code",
   "execution_count": 6,
   "metadata": {},
   "outputs": [
    {
     "data": {
      "image/png": "[encoded data removed]",
      "text/plain": [
       "<Figure size 432x288 with 1 Axes>"
      ]
     },
     "metadata": {
      "needs_background": "light"
     },
     "output_type": "display_data"
    },
    {
     "data": {
      "image/png": "[encoded data removed]",
      "text/plain": [
       "<Figure size 432x288 with 1 Axes>"
      ]
     },
     "metadata": {
      "needs_background": "light"
     },
     "output_type": "display_data"
    }
   ],
   "source": [
    "# Follow a straight line\n",
    "\n",
    "import matplotlib.pyplot as pl\n",
    "import numpy as np\n",
    "from numpy import linalg as la\n",
    "\n",
    "# implicit equation of the straight line f(x,y) := ax + by + c = 0 ; y = (-ax -c)/b\n",
    "\n",
    "# A * sin(wx) + c - y = 0\n",
    "\n",
    "A = 10\n",
    "w = 1\n",
    "c = 5\n",
    "\n",
    "a = 5\n",
    "b = 2\n",
    "c = 5\n",
    "\n",
    "r = 10\n",
    "xc = -10\n",
    "yc = 40\n",
    "\n",
    "# Times for the simulation\n",
    "tf = 200 # secs\n",
    "dt = 0.005\n",
    "dt_inv = 1.0/dt # Sampling frequency in sec^-1\n",
    "\n",
    "# Initial position of the robot\n",
    "p = np.array([10, -30]) # x, y initial positions\n",
    "\n",
    "Rot90 = np.array([[0, -1],[1, 0]]) # rotation matrix\n",
    "ke = 0.05 # gain, how aggressive is the following\n",
    "\n",
    "# logs\n",
    "log_time = np.linspace(0, tf, int(tf*dt_inv))\n",
    "log_p = np.zeros((2, np.size(log_time)))\n",
    "log_e = np.zeros(np.size(log_time))\n",
    "\n",
    "\n",
    "for i in range(np.size(log_time)):\n",
    "    # log the data\n",
    "    log_p[:, i] = p\n",
    "\n",
    "    # error or level set\n",
    "    # e = a*p[0] + b*p[1] + c\n",
    "    # e = (p[0]-xc)**2 + (p[1]-yc)**2 - r**2\n",
    "    e = A * np.sin(w * p[0]) + c - p[1]\n",
    "    # Jacobian or normal vector\n",
    "    n = 2*np.array([A*w*np.cos(w*p[0]), -1])\n",
    "    n = n / la.norm(n)\n",
    "    # Tangent vector\n",
    "    t = Rot90.dot(n)\n",
    "    \n",
    "    direction_to_follow = t - ke*e*n\n",
    "    #direction_to_follow = direction_to_follow / la.norm(direction_to_follow)\n",
    "\n",
    "    # Simulation\n",
    "    p = p + direction_to_follow*dt\n",
    "\n",
    "    # log the data\n",
    "    log_e[i] = e\n",
    "\n",
    "# XY Plots\n",
    "fig, axis = pl.subplots(1)\n",
    "axis.set_title(\"XY Plot\")\n",
    "\n",
    "# Plot the Guiding Vector Field\n",
    "#X_gvf, Y_gvf = np.meshgrid(np.arange(-3, 3, 1), np.arange(-3, 3, 1))\n",
    "#e_gvf = a*X_gvf + b*Y_gvf + c\n",
    "#e_gvf = (X_gvf-xc)**2 + (Y_gvf-yc)**2 + r**2\n",
    "#n_gvf = 2*np.array([X_gvf-xc,Y_gvf-yc])\n",
    "#n_gvf = n_gvf / la.norm(n_gvf) # normalize, unit vector\n",
    "#t_gvf = Rot90.dot(n_gvf)\n",
    "#U_gvf = t_gvf[0] - ke*e_gvf*n_gvf[0]\n",
    "#V_gvf = t_gvf[1] - ke*e_gvf*n_gvf[1]\n",
    "#axis.quiver(X_gvf, Y_gvf, U_gvf, V_gvf)\n",
    "\n",
    "# Plot the path\n",
    "#x_path = np.linspace(-100,100,100)\n",
    "#y_path = (-c -a*x_path)/b\n",
    "#axis.plot(x_path, y_path, 'k--')\n",
    "\n",
    "# Plot the robot's trajectory\n",
    "axis.plot(log_p[0, :], log_p[1, :])\n",
    "axis.grid()\n",
    "axis.set_aspect('equal')\n",
    "\n",
    "# Error signal\n",
    "fig, axis = pl.subplots(1)\n",
    "axis.set_title(\"Error\")\n",
    "axis.plot(log_time[:], log_e)\n",
    "axis.set_xlabel(\"Time [s]\")\n",
    "axis.grid()\n",
    "\n",
    "pl.show()"
   ]
  },
  {
   "cell_type": "markdown",
   "metadata": {},
   "source": [
    "# Assignment 22th of March\n",
    "\n",
    "Modify the code above to guide a robot to a circle of radius 10, and center [-10, 40].\n",
    "\n",
    "Extend the code above to guide a robot between two circles of radius 10 and centers separated by 50. Once the robot makes half circle, then it jumps to the other one over and over again."
   ]
  },
  {
   "cell_type": "code",
   "execution_count": 78,
   "metadata": {},
   "outputs": [
    {
     "name": "stdout",
     "output_type": "stream",
     "text": [
      "[-3.e-323  4.e-323]\n"
     ]
    }
   ],
   "source": [
    "print(direction_to_follow)"
   ]
  },
  {
   "cell_type": "code",
   "execution_count": null,
   "metadata": {},
   "outputs": [],
   "source": []
  }
 ],
 "metadata": {
  "kernelspec": {
   "display_name": "Python 3 (ipykernel)",
   "language": "python",
   "name": "python3"
  },
  "language_info": {
   "codemirror_mode": {
    "name": "ipython",
    "version": 3
   },
   "file_extension": ".py",
   "mimetype": "text/x-python",
   "name": "python",
   "nbconvert_exporter": "python",
   "pygments_lexer": "ipython3",
   "version": "3.8.10"
  }
 },
 "nbformat": 4,
 "nbformat_minor": 2
}
